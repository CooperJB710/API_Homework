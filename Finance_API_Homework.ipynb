{
  "nbformat": 4,
  "nbformat_minor": 0,
  "metadata": {
    "colab": {
      "provenance": [],
      "authorship_tag": "ABX9TyOLQ5CSG/0a8ms62kk7IBY6",
      "include_colab_link": true
    },
    "kernelspec": {
      "name": "python3",
      "display_name": "Python 3"
    },
    "language_info": {
      "name": "python"
    }
  },
  "cells": [
    {
      "cell_type": "markdown",
      "metadata": {
        "id": "view-in-github",
        "colab_type": "text"
      },
      "source": [
        "<a href=\"https://colab.research.google.com/github/CooperJB710/API_Homework/blob/main/Finance_API_Homework.ipynb\" target=\"_parent\"><img src=\"https://colab.research.google.com/assets/colab-badge.svg\" alt=\"Open In Colab\"/></a>"
      ]
    },
    {
      "cell_type": "code",
      "source": [
        "import requests\n",
        "import json\n",
        "import pandas as pd"
      ],
      "metadata": {
        "id": "ZS3GRBZBa4A2"
      },
      "execution_count": null,
      "outputs": []
    },
    {
      "cell_type": "code",
      "source": [
        "apikey = \"SsGDHrb6Gz3Lv1MzQ5BY63rQySjlQG6ha9l9D68P\""
      ],
      "metadata": {
        "id": "KLWbD_nsa5fz"
      },
      "execution_count": null,
      "outputs": []
    },
    {
      "cell_type": "code",
      "source": [
        "def fetch_basic_quotes(symbols: str, apikey: str):\n",
        "    \"\"\"\n",
        "    Fetch basic quote data for the given symbols (comma-separated).\n",
        "    Returns the JSON response as a dictionary.\n",
        "    \"\"\"\n",
        "    url = \"https://yfapi.net/v6/finance/quote\"\n",
        "    querystring = {\"symbols\": symbols}\n",
        "\n",
        "    headers = {\n",
        "        'x-api-key': apikey\n",
        "    }\n",
        "\n",
        "    response = requests.get(url, headers=headers, params=querystring)\n",
        "    data = response.json()\n",
        "    return data\n"
      ],
      "metadata": {
        "id": "toDuuR-7a7W5"
      },
      "execution_count": null,
      "outputs": []
    },
    {
      "cell_type": "code",
      "source": [
        "def fetch_quote_summary(symbol: str, modules: str, apikey: str):\n",
        "    \"\"\"\n",
        "    Fetches modules from the quote summary endpoint for a given symbol.\n",
        "    `modules` can be a comma-separated string of modules, e.g. \"summaryDetail,financialData\".\n",
        "    Returns the JSON response as a dictionary.\n",
        "    \"\"\"\n",
        "    url = f\"https://yfapi.net/v11/finance/quoteSummary/{symbol}\"\n",
        "    querystring = {\n",
        "        \"symbol\": symbol,\n",
        "        \"modules\": modules\n",
        "    }\n",
        "    headers = {\n",
        "        'x-api-key': apikey\n",
        "    }\n",
        "    response = requests.get(url, headers=headers, params=querystring)\n",
        "    return response.json()\n"
      ],
      "metadata": {
        "id": "fqZ41QsRa8eF"
      },
      "execution_count": null,
      "outputs": []
    },
    {
      "cell_type": "code",
      "source": [
        "def fetch_trending(apikey: str, region: str = \"US\"):\n",
        "    \"\"\"\n",
        "    Fetches trending stocks for a specified region (default is US).\n",
        "    Returns a list of symbols that are currently trending.\n",
        "    \"\"\"\n",
        "    url = f\"https://yfapi.net/v1/finance/trending/{region}\"\n",
        "    headers = {\n",
        "        'x-api-key': apikey\n",
        "    }\n",
        "    response = requests.get(url, headers=headers)\n",
        "    data = response.json()\n",
        "\n",
        "    # Typically found under data['finance']['result'][0]['quotes']\n",
        "    # Return them as a list of symbols\n",
        "    try:\n",
        "        trending_list = data['finance']['result'][0]['quotes']\n",
        "        symbols = [item['symbol'] for item in trending_list]\n",
        "        return symbols\n",
        "    except KeyError:\n",
        "        return []"
      ],
      "metadata": {
        "id": "OyebsuIfa-6w"
      },
      "execution_count": null,
      "outputs": []
    },
    {
      "cell_type": "code",
      "source": [
        "def task1_basic_stock_data(apikey: str):\n",
        "    # Prompt user\n",
        "    symbols = input(\"Enter two or more stock symbols (comma-separated): \").strip()\n",
        "\n",
        "    # Fetch the data\n",
        "    data = fetch_basic_quotes(symbols, apikey)\n",
        "\n",
        "    # Parse results\n",
        "    results = data.get('quoteResponse', {}).get('result', [])\n",
        "\n",
        "    # Display\n",
        "    print(\"\\n--- Task 1: Basic Stock Data ---\")\n",
        "    for r in results:\n",
        "        ticker = r.get('symbol', 'N/A')\n",
        "        name = r.get('longName') or r.get('shortName') or 'N/A'\n",
        "        price = r.get('regularMarketPrice', 'N/A')\n",
        "\n",
        "        print(f\"Stock Ticker: {ticker}, Company: {name}, Current Market Price: ${price}\")\n"
      ],
      "metadata": {
        "id": "yfWmWZr_bCzX"
      },
      "execution_count": null,
      "outputs": []
    },
    {
      "cell_type": "code",
      "source": [
        "def task2_1_additional_data(apikey: str):\n",
        "    symbol = input(\"Enter a single stock symbol for 52W High/Low and ROA: \").strip()\n",
        "\n",
        "    # The user can choose modules, but we specifically want summaryDetail + financialData for these items\n",
        "    modules = \"summaryDetail,financialData\"\n",
        "    data = fetch_quote_summary(symbol, modules, apikey)\n",
        "\n",
        "    # Navigate the JSON to find the pieces we need\n",
        "    quote_summary = data.get('quoteSummary', {}).get('result', [])\n",
        "    if not quote_summary:\n",
        "        print(\"No data returned. Check symbol or API response.\")\n",
        "        return\n",
        "\n",
        "    # Usually quote_summary is a list with one element\n",
        "    info = quote_summary[0]\n",
        "\n",
        "    # Safely extract items\n",
        "    summary_detail = info.get('summaryDetail', {})\n",
        "    fifty_two_week_high = summary_detail.get('fiftyTwoWeekHigh', {}).get('raw', None)\n",
        "    fifty_two_week_low  = summary_detail.get('fiftyTwoWeekLow', {}).get('raw', None)\n",
        "\n",
        "    financial_data = info.get('financialData', {})\n",
        "    return_on_assets = financial_data.get('returnOnAssets', {}).get('raw', None)\n",
        "\n",
        "    # Create a DataFrame with these values\n",
        "    df = pd.DataFrame({\n",
        "        'Symbol': [symbol],\n",
        "        '52_Week_High': [fifty_two_week_high],\n",
        "        '52_Week_Low': [fifty_two_week_low],\n",
        "        'Return_on_Assets': [return_on_assets]\n",
        "    })\n",
        "\n",
        "    print(\"\\n--- Task 2.1: 52W High/Low and ROA ---\")\n",
        "    print(df)\n"
      ],
      "metadata": {
        "id": "mjP_gjUVbCqX"
      },
      "execution_count": null,
      "outputs": []
    },
    {
      "cell_type": "code",
      "source": [
        "def task2_2_trending_stocks(apikey: str):\n",
        "    trending_symbols = fetch_trending(apikey, region=\"US\")\n",
        "\n",
        "    if not trending_symbols:\n",
        "        print(\"No trending symbols found or API returned empty.\")\n",
        "        return\n",
        "\n",
        "    # Let’s limit to, for example, the top 5 for demonstration\n",
        "    trending_symbols = trending_symbols[:5]\n",
        "\n",
        "    # Prepare a list to hold the data for each trending stock\n",
        "    data_list = []\n",
        "\n",
        "    for sym in trending_symbols:\n",
        "        # We'll fetch summaryDetail + price in one go if desired\n",
        "        modules = \"summaryDetail,price\"\n",
        "        summary_data = fetch_quote_summary(sym, modules, apikey)\n",
        "        quote_summary = summary_data.get('quoteSummary', {}).get('result', [])\n",
        "        if not quote_summary:\n",
        "            continue\n",
        "\n",
        "        info = quote_summary[0]\n",
        "        price_info = info.get('price', {})\n",
        "        summary_detail = info.get('summaryDetail', {})\n",
        "\n",
        "        # Extract fields\n",
        "        name = price_info.get('longName') or price_info.get('shortName') or sym\n",
        "        current_price = price_info.get('regularMarketPrice', {}).get('raw', None)\n",
        "        fifty_two_week_high = summary_detail.get('fiftyTwoWeekHigh', {}).get('raw', None)\n",
        "        fifty_two_week_low  = summary_detail.get('fiftyTwoWeekLow', {}).get('raw', None)\n",
        "\n",
        "        data_list.append({\n",
        "            'Symbol': sym,\n",
        "            'Name': name,\n",
        "            'CurrentPrice': current_price,\n",
        "            '52_Week_High': fifty_two_week_high,\n",
        "            '52_Week_Low': fifty_two_week_low\n",
        "        })\n",
        "\n",
        "    # Convert to DataFrame\n",
        "    df = pd.DataFrame(data_list)\n",
        "\n",
        "    print(\"\\n--- Task 2.2: Current Trending Stocks (Top 5) ---\")\n",
        "    print(df)\n"
      ],
      "metadata": {
        "id": "IGopC_0tbJwX"
      },
      "execution_count": null,
      "outputs": []
    },
    {
      "cell_type": "code",
      "source": [
        "if __name__ == \"__main__\":\n",
        "    # 1) Run Task 1: Basic Stock Data\n",
        "    task1_basic_stock_data(apikey)\n",
        "\n",
        "    # 2) Run Task 2.1: Additional Data for a chosen symbol\n",
        "    task2_1_additional_data(apikey)\n",
        "\n",
        "    # 3) Run Task 2.2: Current Trending Stocks\n",
        "    task2_2_trending_stocks(apikey)\n"
      ],
      "metadata": {
        "colab": {
          "base_uri": "https://localhost:8080/"
        },
        "id": "AIC0F74oblQk",
        "outputId": "7f90ec8c-6b7c-4986-eab6-b40f2e7996da"
      },
      "execution_count": null,
      "outputs": [
        {
          "output_type": "stream",
          "name": "stdout",
          "text": [
            "Enter two or more stock symbols (comma-separated): AAPL, MSFT\n",
            "\n",
            "--- Task 1: Basic Stock Data ---\n",
            "Stock Ticker: AAPL, Company: Apple Inc., Current Market Price: $240.36\n",
            "Enter a single stock symbol for 52W High/Low and ROA: AAPL\n",
            "\n",
            "--- Task 2.1: 52W High/Low and ROA ---\n",
            "  Symbol  52_Week_High  52_Week_Low  Return_on_Assets\n",
            "0   AAPL         260.1       164.08           0.22519\n",
            "\n",
            "--- Task 2.2: Current Trending Stocks (Top 5) ---\n",
            "  Symbol                Name  CurrentPrice  52_Week_High  52_Week_Low\n",
            "0   NVDA  NVIDIA Corporation        131.28        153.13       75.606\n",
            "1    CRM    Salesforce, Inc.        307.33        369.00      212.000\n",
            "2   SNOW      Snowflake Inc.        166.19        233.88      107.130\n",
            "3   IONQ          IonQ, Inc.         29.93         54.74        6.220\n",
            "4   BYND   Beyond Meat, Inc.          3.56         12.12        3.300\n"
          ]
        }
      ]
    }
  ]
}